{
 "cells": [
  {
   "cell_type": "code",
   "execution_count": 2,
   "metadata": {},
   "outputs": [
    {
     "name": "stdout",
     "output_type": "stream",
     "text": [
      "32.0\n"
     ]
    }
   ],
   "source": [
    "# This notebook is to work through the physical limits of cyberspace.\n",
    "\n",
    "# Cyberspace is a digital space comprised of 3 dimensions: x, y, and z. Each dimension (axis) is 2 ** 85 units long. This unit is referred to as a Gibson.\n",
    "\n",
    "axis = 2**85\n",
    "\n",
    "# The first implementation of the cyberspace protocol is in JavaScript, which can only support numbers this large by utilizing the BigInt class. This makes some vector/quaternion calculations difficult. I don't want the limits of cyberspace to necessarily be based on the limitations of JavaScript, as cyberspace does not have any relationship to a particular programming language. Therefore, I want to suss out the limits of cyberspace without these arbitrary limitations in order to determine how to implement it in JavaScript.\n",
    "\n",
    "# A coordinate in cyberspace is represented by 256 bits. This is 32 bytes, or 4 64-bit integers. This is 2**64.\n",
    "\n",
    "# Cyberspace coordinates have no decimals. They are like planck units. The Gibson is the smallest unit of cyberspace.\n",
    "\n",
    "# While there are no fractional coordinates in cyberspace, there is fractional velocity and rotation, both of which must be captured in action events to create a valid action chain.\n",
    "\n",
    "# The focus of this inquiry is to determine if velocity (a vector3) and rotation (a quaternion) must be limited to 64 bits, or if they can be larger.\n",
    "\n",
    "# First let's look at how large one's velocity could get. Velocity is gained by publishing drift actions that contain proof of work. Each unit P of proof of work is worth 2**P velocity. The theoretical maximum amount of proof-of-work is always 256, but that will very likely never happen.\n",
    "\n",
    "# Let's say that the average drift event is 256 / 8\n",
    "\n",
    "print( 256 / 8 )"
   ]
  },
  {
   "cell_type": "code",
   "execution_count": 21,
   "metadata": {},
   "outputs": [
    {
     "name": "stdout",
     "output_type": "stream",
     "text": [
      "1099511627776\n"
     ]
    }
   ],
   "source": [
    "# 32 POW is 2**32 velocity. Let's say that we can mine one of these every second.\n",
    "velocity_per_second = 2**40\n",
    "\n",
    "print(velocity_per_second)"
   ]
  },
  {
   "cell_type": "code",
   "execution_count": 15,
   "metadata": {},
   "outputs": [
    {
     "name": "stdout",
     "output_type": "stream",
     "text": [
      "9007199254740991\n"
     ]
    }
   ],
   "source": [
    "# Let's compare this to the maximum safe integer in JavaScript:\n",
    "\n",
    "maximum_safe_integer = 2**53-1\n",
    "\n",
    "print(maximum_safe_integer)"
   ]
  },
  {
   "cell_type": "code",
   "execution_count": 22,
   "metadata": {},
   "outputs": [
    {
     "name": "stdout",
     "output_type": "stream",
     "text": [
      "0.000122070312500\n",
      "0.007324218750000\n",
      "0.439453125000000\n",
      "10.546875000000002\n",
      "73.828125000000014\n"
     ]
    }
   ],
   "source": [
    "# Let's experiment with how much velocity one will have after a certain amount of time. \n",
    "\n",
    "# 1 second\n",
    "print('{:.15f}'.format(velocity_per_second / maximum_safe_integer))\n",
    "\n",
    "# 1 minute\n",
    "\n",
    "print('{:.15f}'.format(velocity_per_second * 60 / maximum_safe_integer))\n",
    "\n",
    "# 1 hour\n",
    "\n",
    "print('{:.15f}'.format(velocity_per_second * 60 * 60 / maximum_safe_integer))\n",
    "\n",
    "# 1 day\n",
    "\n",
    "print('{:.15f}'.format(velocity_per_second * 60 * 60 * 24 / maximum_safe_integer))\n",
    "\n",
    "# 1 week\n",
    "\n",
    "print('{:.15f}'.format(velocity_per_second * 60 * 60 * 24 * 7 / maximum_safe_integer))\n"
   ]
  },
  {
   "cell_type": "code",
   "execution_count": null,
   "metadata": {},
   "outputs": [],
   "source": [
    "# So after 1 week of acceleration, we would still only have 1/4 of the maximum safe integer. However, if we change the average velocity per second to 2**34, we breach the maximum safe integer within a week. If the average velocity is 2**40, we reach the maximum safe integer within 3 hours.\n",
    "\n",
    "# We have no way to predict what the average POW will be, because hashpower will only get more powerful and efficient and plentiful in the future. Likewise, some entities will have little and some entities will have an unimaginable amount of hashpower. Therefore, we should design the velocity so that it can support unpredictably large numbers, and that means using BigInt for velocity in JavaScript.\n",
    "\n",
    "# Another question is about fractional velocity. If we use BigInt for velocity, then fractional velocity won't be supported without extra work. However, since the rotation of the avatar will be a quaternion, and the velocity is applied by the quaternion, there will definitely be fractional velocity.\n",
    "\n"
   ]
  }
 ],
 "metadata": {
  "kernelspec": {
   "display_name": "Python 3",
   "language": "python",
   "name": "python3"
  },
  "language_info": {
   "codemirror_mode": {
    "name": "ipython",
    "version": 3
   },
   "file_extension": ".py",
   "mimetype": "text/x-python",
   "name": "python",
   "nbconvert_exporter": "python",
   "pygments_lexer": "ipython3",
   "version": "3.9.13"
  }
 },
 "nbformat": 4,
 "nbformat_minor": 2
}
